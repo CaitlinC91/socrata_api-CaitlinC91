{
 "cells": [
  {
   "cell_type": "code",
   "execution_count": 137,
   "metadata": {},
   "outputs": [],
   "source": [
    "import json\n",
    "import requests\n",
    "import matplotlib.pyplot as plt\n",
    "import pandas as pd"
   ]
  },
  {
   "cell_type": "code",
   "execution_count": 138,
   "metadata": {},
   "outputs": [],
   "source": [
    "endpoint = 'https://data.nashville.gov/resource/fuaa-r5cm.json'"
   ]
  },
  {
   "cell_type": "code",
   "execution_count": 139,
   "metadata": {},
   "outputs": [],
   "source": [
    "response = requests.get(endpoint)"
   ]
  },
  {
   "cell_type": "code",
   "execution_count": 140,
   "metadata": {},
   "outputs": [
    {
     "data": {
      "text/plain": [
       "<Response [200]>"
      ]
     },
     "execution_count": 140,
     "metadata": {},
     "output_type": "execute_result"
    }
   ],
   "source": [
    "response"
   ]
  },
  {
   "attachments": {},
   "cell_type": "markdown",
   "metadata": {},
   "source": [
    "Make an API request that returns the months where \"fire\" was searched in 2016. Which month had the most searches?"
   ]
  },
  {
   "cell_type": "code",
   "execution_count": 141,
   "metadata": {},
   "outputs": [],
   "source": [
    "params = {\n",
    "    \"Year\": \"2016\",\n",
    "    \"Query Text\": \"fire\"\n",
    "}"
   ]
  },
  {
   "cell_type": "code",
   "execution_count": 142,
   "metadata": {},
   "outputs": [],
   "source": [
    "response = requests.get(endpoint, params = params)"
   ]
  },
  {
   "cell_type": "code",
   "execution_count": 143,
   "metadata": {},
   "outputs": [
    {
     "data": {
      "text/plain": [
       "<Response [200]>"
      ]
     },
     "execution_count": 143,
     "metadata": {},
     "output_type": "execute_result"
    }
   ],
   "source": [
    "response"
   ]
  },
  {
   "cell_type": "code",
   "execution_count": 144,
   "metadata": {},
   "outputs": [
    {
     "data": {
      "text/plain": [
       "[{'month_name': 'January',\n",
       "  'year': '2016',\n",
       "  'query_count': '19',\n",
       "  'query_text': 'fire'},\n",
       " {'month_name': 'February',\n",
       "  'year': '2016',\n",
       "  'query_count': '35',\n",
       "  'query_text': 'fire'},\n",
       " {'month_name': 'March',\n",
       "  'year': '2016',\n",
       "  'query_count': '32',\n",
       "  'query_text': 'fire'},\n",
       " {'month_name': 'April',\n",
       "  'year': '2016',\n",
       "  'query_count': '26',\n",
       "  'query_text': 'fire'},\n",
       " {'month_name': 'May',\n",
       "  'year': '2016',\n",
       "  'query_count': '24',\n",
       "  'query_text': 'fire'},\n",
       " {'month_name': 'June',\n",
       "  'year': '2016',\n",
       "  'query_count': '31',\n",
       "  'query_text': 'fire'},\n",
       " {'month_name': 'July',\n",
       "  'year': '2016',\n",
       "  'query_count': '24',\n",
       "  'query_text': 'fire'},\n",
       " {'month_name': 'August',\n",
       "  'year': '2016',\n",
       "  'query_count': '47',\n",
       "  'query_text': 'fire'},\n",
       " {'month_name': 'September',\n",
       "  'year': '2016',\n",
       "  'query_count': '36',\n",
       "  'query_text': 'fire'},\n",
       " {'month_name': 'October',\n",
       "  'year': '2016',\n",
       "  'query_count': '38',\n",
       "  'query_text': 'fire'},\n",
       " {'month_name': 'November',\n",
       "  'year': '2016',\n",
       "  'query_count': '32',\n",
       "  'query_text': 'fire'},\n",
       " {'month_name': 'December',\n",
       "  'year': '2016',\n",
       "  'query_count': '38',\n",
       "  'query_text': 'fire'}]"
      ]
     },
     "execution_count": 144,
     "metadata": {},
     "output_type": "execute_result"
    }
   ],
   "source": [
    "res = response.json()\n",
    "res"
   ]
  },
  {
   "cell_type": "code",
   "execution_count": 145,
   "metadata": {},
   "outputs": [
    {
     "data": {
      "text/html": [
       "<div>\n",
       "<style scoped>\n",
       "    .dataframe tbody tr th:only-of-type {\n",
       "        vertical-align: middle;\n",
       "    }\n",
       "\n",
       "    .dataframe tbody tr th {\n",
       "        vertical-align: top;\n",
       "    }\n",
       "\n",
       "    .dataframe thead th {\n",
       "        text-align: right;\n",
       "    }\n",
       "</style>\n",
       "<table border=\"1\" class=\"dataframe\">\n",
       "  <thead>\n",
       "    <tr style=\"text-align: right;\">\n",
       "      <th></th>\n",
       "      <th>month_name</th>\n",
       "      <th>year</th>\n",
       "      <th>query_count</th>\n",
       "      <th>query_text</th>\n",
       "    </tr>\n",
       "  </thead>\n",
       "  <tbody>\n",
       "    <tr>\n",
       "      <th>0</th>\n",
       "      <td>January</td>\n",
       "      <td>2016</td>\n",
       "      <td>19</td>\n",
       "      <td>fire</td>\n",
       "    </tr>\n",
       "    <tr>\n",
       "      <th>1</th>\n",
       "      <td>February</td>\n",
       "      <td>2016</td>\n",
       "      <td>35</td>\n",
       "      <td>fire</td>\n",
       "    </tr>\n",
       "    <tr>\n",
       "      <th>2</th>\n",
       "      <td>March</td>\n",
       "      <td>2016</td>\n",
       "      <td>32</td>\n",
       "      <td>fire</td>\n",
       "    </tr>\n",
       "    <tr>\n",
       "      <th>3</th>\n",
       "      <td>April</td>\n",
       "      <td>2016</td>\n",
       "      <td>26</td>\n",
       "      <td>fire</td>\n",
       "    </tr>\n",
       "    <tr>\n",
       "      <th>4</th>\n",
       "      <td>May</td>\n",
       "      <td>2016</td>\n",
       "      <td>24</td>\n",
       "      <td>fire</td>\n",
       "    </tr>\n",
       "    <tr>\n",
       "      <th>5</th>\n",
       "      <td>June</td>\n",
       "      <td>2016</td>\n",
       "      <td>31</td>\n",
       "      <td>fire</td>\n",
       "    </tr>\n",
       "    <tr>\n",
       "      <th>6</th>\n",
       "      <td>July</td>\n",
       "      <td>2016</td>\n",
       "      <td>24</td>\n",
       "      <td>fire</td>\n",
       "    </tr>\n",
       "    <tr>\n",
       "      <th>7</th>\n",
       "      <td>August</td>\n",
       "      <td>2016</td>\n",
       "      <td>47</td>\n",
       "      <td>fire</td>\n",
       "    </tr>\n",
       "    <tr>\n",
       "      <th>8</th>\n",
       "      <td>September</td>\n",
       "      <td>2016</td>\n",
       "      <td>36</td>\n",
       "      <td>fire</td>\n",
       "    </tr>\n",
       "    <tr>\n",
       "      <th>9</th>\n",
       "      <td>October</td>\n",
       "      <td>2016</td>\n",
       "      <td>38</td>\n",
       "      <td>fire</td>\n",
       "    </tr>\n",
       "    <tr>\n",
       "      <th>10</th>\n",
       "      <td>November</td>\n",
       "      <td>2016</td>\n",
       "      <td>32</td>\n",
       "      <td>fire</td>\n",
       "    </tr>\n",
       "    <tr>\n",
       "      <th>11</th>\n",
       "      <td>December</td>\n",
       "      <td>2016</td>\n",
       "      <td>38</td>\n",
       "      <td>fire</td>\n",
       "    </tr>\n",
       "  </tbody>\n",
       "</table>\n",
       "</div>"
      ],
      "text/plain": [
       "   month_name  year query_count query_text\n",
       "0     January  2016          19       fire\n",
       "1    February  2016          35       fire\n",
       "2       March  2016          32       fire\n",
       "3       April  2016          26       fire\n",
       "4         May  2016          24       fire\n",
       "5        June  2016          31       fire\n",
       "6        July  2016          24       fire\n",
       "7      August  2016          47       fire\n",
       "8   September  2016          36       fire\n",
       "9     October  2016          38       fire\n",
       "10   November  2016          32       fire\n",
       "11   December  2016          38       fire"
      ]
     },
     "execution_count": 145,
     "metadata": {},
     "output_type": "execute_result"
    }
   ],
   "source": [
    "query_fire = pd.DataFrame(res)\n",
    "query_fire"
   ]
  },
  {
   "cell_type": "code",
   "execution_count": 146,
   "metadata": {},
   "outputs": [
    {
     "name": "stdout",
     "output_type": "stream",
     "text": [
      "  month_name  year query_count query_text\n",
      "7     August  2016          47       fire\n"
     ]
    }
   ],
   "source": [
    "print(query_fire[query_fire['query_count'] == query_fire['query_count'].max()])\n"
   ]
  },
  {
   "attachments": {},
   "cell_type": "markdown",
   "metadata": {},
   "source": [
    "2. Make an API request that returns all the times a query was run more than 100 times in a month. How many times did this occur?"
   ]
  },
  {
   "cell_type": "code",
   "execution_count": 151,
   "metadata": {},
   "outputs": [
    {
     "data": {
      "text/plain": [
       "<Response [200]>"
      ]
     },
     "execution_count": 151,
     "metadata": {},
     "output_type": "execute_result"
    }
   ],
   "source": [
    "endpoint2 = 'https://data.nashville.gov/resource/fuaa-r5cm.json/'\n",
    "\n",
    "response2 = requests.get(endpoint2)\n",
    "response2"
   ]
  },
  {
   "cell_type": "code",
   "execution_count": 180,
   "metadata": {},
   "outputs": [],
   "source": [
    "res2 = response2.json()"
   ]
  },
  {
   "cell_type": "code",
   "execution_count": 181,
   "metadata": {},
   "outputs": [
    {
     "data": {
      "text/html": [
       "<div>\n",
       "<style scoped>\n",
       "    .dataframe tbody tr th:only-of-type {\n",
       "        vertical-align: middle;\n",
       "    }\n",
       "\n",
       "    .dataframe tbody tr th {\n",
       "        vertical-align: top;\n",
       "    }\n",
       "\n",
       "    .dataframe thead th {\n",
       "        text-align: right;\n",
       "    }\n",
       "</style>\n",
       "<table border=\"1\" class=\"dataframe\">\n",
       "  <thead>\n",
       "    <tr style=\"text-align: right;\">\n",
       "      <th></th>\n",
       "      <th>month_name</th>\n",
       "      <th>year</th>\n",
       "      <th>query_count</th>\n",
       "      <th>query_text</th>\n",
       "    </tr>\n",
       "  </thead>\n",
       "  <tbody>\n",
       "    <tr>\n",
       "      <th>0</th>\n",
       "      <td>January</td>\n",
       "      <td>2014</td>\n",
       "      <td>223</td>\n",
       "      <td>ebid</td>\n",
       "    </tr>\n",
       "    <tr>\n",
       "      <th>1</th>\n",
       "      <td>January</td>\n",
       "      <td>2014</td>\n",
       "      <td>112</td>\n",
       "      <td>property maps</td>\n",
       "    </tr>\n",
       "    <tr>\n",
       "      <th>2</th>\n",
       "      <td>January</td>\n",
       "      <td>2014</td>\n",
       "      <td>97</td>\n",
       "      <td>maps</td>\n",
       "    </tr>\n",
       "    <tr>\n",
       "      <th>3</th>\n",
       "      <td>January</td>\n",
       "      <td>2014</td>\n",
       "      <td>90</td>\n",
       "      <td>property tax</td>\n",
       "    </tr>\n",
       "    <tr>\n",
       "      <th>4</th>\n",
       "      <td>January</td>\n",
       "      <td>2014</td>\n",
       "      <td>76</td>\n",
       "      <td>jobs</td>\n",
       "    </tr>\n",
       "    <tr>\n",
       "      <th>...</th>\n",
       "      <td>...</td>\n",
       "      <td>...</td>\n",
       "      <td>...</td>\n",
       "      <td>...</td>\n",
       "    </tr>\n",
       "    <tr>\n",
       "      <th>995</th>\n",
       "      <td>February</td>\n",
       "      <td>2014</td>\n",
       "      <td>7</td>\n",
       "      <td>pay stubs</td>\n",
       "    </tr>\n",
       "    <tr>\n",
       "      <th>996</th>\n",
       "      <td>February</td>\n",
       "      <td>2014</td>\n",
       "      <td>7</td>\n",
       "      <td>school lunch menu</td>\n",
       "    </tr>\n",
       "    <tr>\n",
       "      <th>997</th>\n",
       "      <td>February</td>\n",
       "      <td>2014</td>\n",
       "      <td>7</td>\n",
       "      <td>contractors permit bond</td>\n",
       "    </tr>\n",
       "    <tr>\n",
       "      <th>998</th>\n",
       "      <td>February</td>\n",
       "      <td>2014</td>\n",
       "      <td>7</td>\n",
       "      <td>media</td>\n",
       "    </tr>\n",
       "    <tr>\n",
       "      <th>999</th>\n",
       "      <td>February</td>\n",
       "      <td>2014</td>\n",
       "      <td>7</td>\n",
       "      <td>pay plan</td>\n",
       "    </tr>\n",
       "  </tbody>\n",
       "</table>\n",
       "<p>1000 rows × 4 columns</p>\n",
       "</div>"
      ],
      "text/plain": [
       "    month_name  year query_count               query_text\n",
       "0      January  2014         223                     ebid\n",
       "1      January  2014         112            property maps\n",
       "2      January  2014          97                     maps\n",
       "3      January  2014          90             property tax\n",
       "4      January  2014          76                     jobs\n",
       "..         ...   ...         ...                      ...\n",
       "995   February  2014           7                pay stubs\n",
       "996   February  2014           7        school lunch menu\n",
       "997   February  2014           7  contractors permit bond\n",
       "998   February  2014           7                    media\n",
       "999   February  2014           7                 pay plan\n",
       "\n",
       "[1000 rows x 4 columns]"
      ]
     },
     "execution_count": 181,
     "metadata": {},
     "output_type": "execute_result"
    }
   ],
   "source": [
    " high_queries = pd.DataFrame(res2)\n",
    "high_queries"
   ]
  },
  {
   "cell_type": "code",
   "execution_count": 182,
   "metadata": {},
   "outputs": [
    {
     "name": "stdout",
     "output_type": "stream",
     "text": [
      "<class 'pandas.core.frame.DataFrame'>\n",
      "RangeIndex: 1000 entries, 0 to 999\n",
      "Data columns (total 4 columns):\n",
      " #   Column       Non-Null Count  Dtype \n",
      "---  ------       --------------  ----- \n",
      " 0   month_name   1000 non-null   object\n",
      " 1   year         1000 non-null   object\n",
      " 2   query_count  1000 non-null   int64 \n",
      " 3   query_text   1000 non-null   object\n",
      "dtypes: int64(1), object(3)\n",
      "memory usage: 31.4+ KB\n"
     ]
    }
   ],
   "source": [
    "#trying to filter but error leads me to think query count col is str\n",
    "#high_queries = high_queries[high_queries[\"query_count\"]> 100] so will change to int\n",
    "#high_queries['query_count'] = high_queries['query_count'].astype(float)\n",
    "high_queries['query_count'] = pd.to_numeric(high_queries['query_count'])\n",
    "high_queries.info()"
   ]
  },
  {
   "cell_type": "code",
   "execution_count": 187,
   "metadata": {},
   "outputs": [
    {
     "name": "stdout",
     "output_type": "stream",
     "text": [
      "12\n"
     ]
    }
   ],
   "source": [
    "#high_queries = high_queries[high_queries[\"query_count\"]> 100]\n",
    "print(len(high_queries[high_queries['query_count'] > 100]))\n"
   ]
  }
 ],
 "metadata": {
  "kernelspec": {
   "display_name": "base",
   "language": "python",
   "name": "python3"
  },
  "language_info": {
   "codemirror_mode": {
    "name": "ipython",
    "version": 3
   },
   "file_extension": ".py",
   "mimetype": "text/x-python",
   "name": "python",
   "nbconvert_exporter": "python",
   "pygments_lexer": "ipython3",
   "version": "3.10.9"
  },
  "orig_nbformat": 4
 },
 "nbformat": 4,
 "nbformat_minor": 2
}
